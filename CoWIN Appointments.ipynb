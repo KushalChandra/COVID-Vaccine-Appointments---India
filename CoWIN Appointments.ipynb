{
 "cells": [
  {
   "cell_type": "code",
   "execution_count": 1,
   "metadata": {},
   "outputs": [],
   "source": [
    "import requests\n",
    "\n",
    "import json\n",
    "\n",
    "import pandas as pd"
   ]
  },
  {
   "cell_type": "code",
   "execution_count": 51,
   "metadata": {},
   "outputs": [
    {
     "name": "stdout",
     "output_type": "stream",
     "text": [
      "response code =  200 \n",
      "\n",
      "response ok \n",
      "\n"
     ]
    },
    {
     "data": {
      "text/plain": [
       "{'states': [{'state_id': 1, 'state_name': 'Andaman and Nicobar Islands'},\n",
       "  {'state_id': 2, 'state_name': 'Andhra Pradesh'},\n",
       "  {'state_id': 3, 'state_name': 'Arunachal Pradesh'},\n",
       "  {'state_id': 4, 'state_name': 'Assam'},\n",
       "  {'state_id': 5, 'state_name': 'Bihar'},\n",
       "  {'state_id': 6, 'state_name': 'Chandigarh'},\n",
       "  {'state_id': 7, 'state_name': 'Chhattisgarh'},\n",
       "  {'state_id': 8, 'state_name': 'Dadra and Nagar Haveli'},\n",
       "  {'state_id': 37, 'state_name': 'Daman and Diu'},\n",
       "  {'state_id': 9, 'state_name': 'Delhi'},\n",
       "  {'state_id': 10, 'state_name': 'Goa'},\n",
       "  {'state_id': 11, 'state_name': 'Gujarat'},\n",
       "  {'state_id': 12, 'state_name': 'Haryana'},\n",
       "  {'state_id': 13, 'state_name': 'Himachal Pradesh'},\n",
       "  {'state_id': 14, 'state_name': 'Jammu and Kashmir'},\n",
       "  {'state_id': 15, 'state_name': 'Jharkhand'},\n",
       "  {'state_id': 16, 'state_name': 'Karnataka'},\n",
       "  {'state_id': 17, 'state_name': 'Kerala'},\n",
       "  {'state_id': 18, 'state_name': 'Ladakh'},\n",
       "  {'state_id': 19, 'state_name': 'Lakshadweep'},\n",
       "  {'state_id': 20, 'state_name': 'Madhya Pradesh'},\n",
       "  {'state_id': 21, 'state_name': 'Maharashtra'},\n",
       "  {'state_id': 22, 'state_name': 'Manipur'},\n",
       "  {'state_id': 23, 'state_name': 'Meghalaya'},\n",
       "  {'state_id': 24, 'state_name': 'Mizoram'},\n",
       "  {'state_id': 25, 'state_name': 'Nagaland'},\n",
       "  {'state_id': 26, 'state_name': 'Odisha'},\n",
       "  {'state_id': 27, 'state_name': 'Puducherry'},\n",
       "  {'state_id': 28, 'state_name': 'Punjab'},\n",
       "  {'state_id': 29, 'state_name': 'Rajasthan'},\n",
       "  {'state_id': 30, 'state_name': 'Sikkim'},\n",
       "  {'state_id': 31, 'state_name': 'Tamil Nadu'},\n",
       "  {'state_id': 32, 'state_name': 'Telangana'},\n",
       "  {'state_id': 33, 'state_name': 'Tripura'},\n",
       "  {'state_id': 34, 'state_name': 'Uttar Pradesh'},\n",
       "  {'state_id': 35, 'state_name': 'Uttarakhand'},\n",
       "  {'state_id': 36, 'state_name': 'West Bengal'}],\n",
       " 'ttl': 24}"
      ]
     },
     "execution_count": 51,
     "metadata": {},
     "output_type": "execute_result"
    }
   ],
   "source": [
    "# GET A DICTIONARY OF STATES\n",
    "\n",
    "endpoint_url = f'https://cdn-api.co-vin.in/api/v2/admin/location/states'\n",
    "\n",
    "output_type = \"application/json\"\n",
    "language = \"en_US\"\n",
    "\n",
    "# CHANGE USER_AGENT FOR YOUR BROWSER / DEVICE\n",
    "user_agent = \"Mozilla/5.0 (Macintosh; Intel Mac OS X 10_15_7) AppleWebKit/605.1.15 (KHTML, like Gecko) \\\n",
    "                Version/14.1 Safari/605.1.15\"\n",
    "\n",
    "query = f'{endpoint_url}'\n",
    "\n",
    "query_headers = {\"Accept\" : output_type,\n",
    "                 \"Accept-Language\" : language,\n",
    "                 \"User-Agent\" : user_agent}\n",
    "\n",
    "response = requests.get(query, \n",
    "               headers = query_headers)\n",
    "\n",
    "print(\"response code = \", response.status_code,\"\\n\")\n",
    "\n",
    "if response.status_code == 200:\n",
    "    print(\"response ok \\n\")\n",
    "    states = response.json()\n",
    "\n",
    "elif response.status_code == 403:\n",
    "    print(\"Cannot connect to server \\n\")\n",
    "    print(response.text)\n",
    "\n",
    "else:\n",
    "    print(\"Other error, see response.text \\n\")\n",
    "    print(response.text)\n",
    "\n",
    "states"
   ]
  },
  {
   "cell_type": "code",
   "execution_count": 52,
   "metadata": {},
   "outputs": [
    {
     "name": "stdout",
     "output_type": "stream",
     "text": [
      "response code =  200 \n",
      "\n",
      "response ok \n",
      "\n"
     ]
    },
    {
     "data": {
      "text/plain": [
       "{'districts': [{'district_id': 141, 'district_name': 'Central Delhi'},\n",
       "  {'district_id': 145, 'district_name': 'East Delhi'},\n",
       "  {'district_id': 140, 'district_name': 'New Delhi'},\n",
       "  {'district_id': 146, 'district_name': 'North Delhi'},\n",
       "  {'district_id': 147, 'district_name': 'North East Delhi'},\n",
       "  {'district_id': 143, 'district_name': 'North West Delhi'},\n",
       "  {'district_id': 148, 'district_name': 'Shahdara'},\n",
       "  {'district_id': 149, 'district_name': 'South Delhi'},\n",
       "  {'district_id': 144, 'district_name': 'South East Delhi'},\n",
       "  {'district_id': 150, 'district_name': 'South West Delhi'},\n",
       "  {'district_id': 142, 'district_name': 'West Delhi'}],\n",
       " 'ttl': 24}"
      ]
     },
     "execution_count": 52,
     "metadata": {},
     "output_type": "execute_result"
    }
   ],
   "source": [
    "# GET A DICTIONARY OF DISTRICTS IN THE STATE\n",
    "\n",
    "state_id = 9                 # CHANGE STATE_ID TO CHOOSE YOUR STATE OF INTEREST\n",
    "\n",
    "endpoint_url_dist = f'https://cdn-api.co-vin.in/api/v2/admin/location/districts/{state_id}'\n",
    "\n",
    "query = f'{endpoint_url_dist}'\n",
    "\n",
    "response = requests.get(query, \n",
    "               headers = query_headers)\n",
    "\n",
    "print(\"response code = \", response.status_code,\"\\n\")\n",
    "\n",
    "if response.status_code == 200:\n",
    "    print(\"response ok \\n\")\n",
    "    state_districts = response.json()\n",
    "\n",
    "elif response.status_code == 403:\n",
    "    print(\"Cannot connect to server \\n\")\n",
    "    print(response.text)\n",
    "\n",
    "else:\n",
    "    print(\"Other error, see response.text \\n\")\n",
    "    print(response.text)\n",
    "    \n",
    "\n",
    "state_districts\n"
   ]
  },
  {
   "cell_type": "code",
   "execution_count": 53,
   "metadata": {},
   "outputs": [],
   "source": [
    "def appointments(districts, appointment_dates):\n",
    "    \"\"\"The function takes in a list of districts and appointment dates in 'dd-mm-yyyy' format\n",
    "        and returns a dataframe with all available appointments for the specified dates in those districts\"\"\"\n",
    "    \n",
    "    endpoint_url_app = f'https://cdn-api.co-vin.in/api/v2/appointment/sessions/public/findByDistrict'\n",
    "    \n",
    "    district_appointments_df = pd.DataFrame(columns = ['date', 'name', 'address', 'district_name', 'pincode',\n",
    "                                                       'fee', 'available_capacity', 'vaccine', 'min_age_limit'])\n",
    "    for district in districts:\n",
    "        for app_date in appointment_dates:\n",
    "            query = f'{endpoint_url_app}?district_id={district}&date={app_date}'\n",
    "            \n",
    "            query_app = f'{query}'\n",
    "            \n",
    "            response = requests.get(query_app, \n",
    "               headers = query_headers)\n",
    "            \n",
    "#             print(response.status_code)\n",
    "\n",
    "            if response.status_code != 200:\n",
    "                print(response.text)\n",
    "\n",
    "            else:\n",
    "                district_apps = response.json()\n",
    "            \n",
    "            if (response.status_code == 200 and bool(district_apps['sessions']) == True):\n",
    "                district_apps_df = pd.DataFrame.from_dict(district_apps)\n",
    "    \n",
    "                district_apps_df_2 = district_apps_df['sessions'].apply(pd.Series)\n",
    "    \n",
    "                dist_apps_df_3 = district_apps_df_2[(district_apps_df_2['available_capacity'] > 0) \n",
    "                                        & (district_apps_df_2['min_age_limit'] == 18) # CHANGE AGE LIMIT HERE\n",
    "                                       ]\n",
    "    \n",
    "                dist_apps_df_4 = dist_apps_df_3[['date', 'name', 'address', 'district_name', 'pincode', 'fee',\n",
    "                                 'available_capacity', 'vaccine','min_age_limit']]\n",
    "                \n",
    "#                 print('df_4 created with values for {} district and {} date'.format(district, app_date))\n",
    "\n",
    "            else:\n",
    "    \n",
    "                dist_apps_df_4 = pd.DataFrame(columns = ['date', 'name', 'address', 'district_name', 'pincode', \n",
    "                                                         'fee', 'available_capacity', 'vaccine', 'min_age_limit'])\n",
    "        \n",
    "#                 print('Blank df_4 created for {} district and {} date'.format(district, app_date))\n",
    "        \n",
    "            district_appointments_df.append(dist_apps_df_4)\n",
    "        \n",
    "    if len(district_appointments_df.index) == 0:\n",
    "        print('No Appointments Available for Selected District and Dates.')\n",
    "        \n",
    "    else:\n",
    "        return district_appointments_df"
   ]
  },
  {
   "cell_type": "code",
   "execution_count": 59,
   "metadata": {},
   "outputs": [],
   "source": [
    "# RUN THIS IF YOU WANT TO CHECK APPOINTMENTS IN ALL DISTRICT OF YOUR STATE\n",
    "# OTHERWISE, ENTER DISTRICT IDs IN A LIST AND PASS THAT LIST IN THE FUNCTION \n",
    "disrtict_ids = {}\n",
    "district_names = {}\n",
    "i = 0\n",
    "\n",
    "for x in state_districts['districts']:\n",
    "    disrtict_ids[i] = x['district_id']\n",
    "    district_names[i] = x['district_name']\n",
    "    i += 1\n",
    "\n",
    "district_id_list = list(disrtict_ids.values())\n",
    "district_name_list = list(district_names.values())"
   ]
  },
  {
   "cell_type": "code",
   "execution_count": 55,
   "metadata": {},
   "outputs": [],
   "source": [
    "# MANUALLY ENTER DISTRICT AND DATES OF INTEREST\n",
    "\n",
    "# district_list = [141]\n",
    "app_dates = ['09-05-2021', '10-05-2021', '11-05-2021', '12-05-2021']      # date in 'DD-MM-YYYY' format"
   ]
  },
  {
   "cell_type": "code",
   "execution_count": 60,
   "metadata": {},
   "outputs": [
    {
     "name": "stdout",
     "output_type": "stream",
     "text": [
      "No Appointments Available for Selected District and Dates.\n",
      "Selected Districts : ['Central Delhi', 'East Delhi', 'New Delhi', 'North Delhi', 'North East Delhi', 'North West Delhi', 'Shahdara', 'South Delhi', 'South East Delhi', 'South West Delhi', 'West Delhi']\n",
      "Selected Dates : ['09-05-2021', '10-05-2021', '11-05-2021', '12-05-2021']\n"
     ]
    }
   ],
   "source": [
    "# CALLING FUNCTION appointments FOR SELECTED DISTRICT AND DATES\n",
    "appointments(district_id_list, app_dates)\n",
    "print('Selected Districts : {}'.format(district_name_list))\n",
    "print('Selected Dates : {}'.format(app_dates))"
   ]
  },
  {
   "cell_type": "code",
   "execution_count": null,
   "metadata": {},
   "outputs": [],
   "source": []
  }
 ],
 "metadata": {
  "kernelspec": {
   "display_name": "Python 3",
   "language": "python",
   "name": "python3"
  },
  "language_info": {
   "codemirror_mode": {
    "name": "ipython",
    "version": 3
   },
   "file_extension": ".py",
   "mimetype": "text/x-python",
   "name": "python",
   "nbconvert_exporter": "python",
   "pygments_lexer": "ipython3",
   "version": "3.8.3"
  }
 },
 "nbformat": 4,
 "nbformat_minor": 4
}
